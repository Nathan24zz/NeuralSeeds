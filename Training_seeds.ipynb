{
 "cells": [
  {
   "cell_type": "code",
   "execution_count": 1,
   "id": "3c035334-99fa-4a64-89f2-36554b1ee9fd",
   "metadata": {
    "collapsed": true,
    "jupyter": {
     "outputs_hidden": true
    },
    "tags": []
   },
   "outputs": [
    {
     "name": "stdout",
     "output_type": "stream",
     "text": [
      "Defaulting to user installation because normal site-packages is not writeable\n",
      "Collecting opendatasets\n",
      "  Downloading opendatasets-0.1.22-py3-none-any.whl (15 kB)\n",
      "Requirement already satisfied: pandas in /usr/local/lib/python3.8/dist-packages (1.5.3)\n",
      "Collecting kaggle\n",
      "  Downloading kaggle-1.5.13.tar.gz (63 kB)\n",
      "\u001b[2K     \u001b[90m━━━━━━━━━━━━━━━━━━━━━━━━━━━━━━━━━━━━━━━━\u001b[0m \u001b[32m63.3/63.3 kB\u001b[0m \u001b[31m1.9 MB/s\u001b[0m eta \u001b[36m0:00:00\u001b[0m\n",
      "\u001b[?25h  Preparing metadata (setup.py) ... \u001b[?25ldone\n",
      "\u001b[?25hCollecting click\n",
      "  Downloading click-8.1.3-py3-none-any.whl (96 kB)\n",
      "\u001b[2K     \u001b[90m━━━━━━━━━━━━━━━━━━━━━━━━━━━━━━━━━━━━━━━━\u001b[0m \u001b[32m96.6/96.6 kB\u001b[0m \u001b[31m8.3 MB/s\u001b[0m eta \u001b[36m0:00:00\u001b[0m\n",
      "\u001b[?25hRequirement already satisfied: tqdm in /usr/local/lib/python3.8/dist-packages (from opendatasets) (4.65.0)\n",
      "Requirement already satisfied: numpy>=1.20.3 in /usr/local/lib/python3.8/dist-packages (from pandas) (1.24.2)\n",
      "Requirement already satisfied: pytz>=2020.1 in /usr/local/lib/python3.8/dist-packages (from pandas) (2022.7.1)\n",
      "Requirement already satisfied: python-dateutil>=2.8.1 in /usr/local/lib/python3.8/dist-packages (from pandas) (2.8.2)\n",
      "Requirement already satisfied: six>=1.5 in /usr/lib/python3/dist-packages (from python-dateutil>=2.8.1->pandas) (1.14.0)\n",
      "Requirement already satisfied: certifi in /usr/lib/python3/dist-packages (from kaggle->opendatasets) (2019.11.28)\n",
      "Requirement already satisfied: requests in /usr/local/lib/python3.8/dist-packages (from kaggle->opendatasets) (2.28.2)\n",
      "Collecting python-slugify\n",
      "  Downloading python_slugify-8.0.1-py2.py3-none-any.whl (9.7 kB)\n",
      "Requirement already satisfied: urllib3 in /usr/lib/python3/dist-packages (from kaggle->opendatasets) (1.25.8)\n",
      "Collecting text-unidecode>=1.3\n",
      "  Downloading text_unidecode-1.3-py2.py3-none-any.whl (78 kB)\n",
      "\u001b[2K     \u001b[90m━━━━━━━━━━━━━━━━━━━━━━━━━━━━━━━━━━━━━━━━\u001b[0m \u001b[32m78.2/78.2 kB\u001b[0m \u001b[31m15.4 MB/s\u001b[0m eta \u001b[36m0:00:00\u001b[0m\n",
      "\u001b[?25hRequirement already satisfied: idna<4,>=2.5 in /usr/lib/python3/dist-packages (from requests->kaggle->opendatasets) (2.8)\n",
      "Requirement already satisfied: charset-normalizer<4,>=2 in /usr/local/lib/python3.8/dist-packages (from requests->kaggle->opendatasets) (3.0.1)\n",
      "Building wheels for collected packages: kaggle\n",
      "  Building wheel for kaggle (setup.py) ... \u001b[?25ldone\n",
      "\u001b[?25h  Created wheel for kaggle: filename=kaggle-1.5.13-py3-none-any.whl size=77721 sha256=53f35dd9130091a649e31330dd11d1f0c198d0aab6feb32b9bad5728367c59e8\n",
      "  Stored in directory: /home/riset/.cache/pip/wheels/e6/8e/67/e07554a720a493dc6b39b30488590ba92ed45448ad0134d253\n",
      "Successfully built kaggle\n",
      "Installing collected packages: text-unidecode, python-slugify, click, kaggle, opendatasets\n",
      "\u001b[33m  WARNING: The script slugify is installed in '/home/riset/.local/bin' which is not on PATH.\n",
      "  Consider adding this directory to PATH or, if you prefer to suppress this warning, use --no-warn-script-location.\u001b[0m\u001b[33m\n",
      "\u001b[0m\u001b[33m  WARNING: The script kaggle is installed in '/home/riset/.local/bin' which is not on PATH.\n",
      "  Consider adding this directory to PATH or, if you prefer to suppress this warning, use --no-warn-script-location.\u001b[0m\u001b[33m\n",
      "\u001b[0mSuccessfully installed click-8.1.3 kaggle-1.5.13 opendatasets-0.1.22 python-slugify-8.0.1 text-unidecode-1.3\n"
     ]
    }
   ],
   "source": [
    "!pip install opendatasets pandas"
   ]
  },
  {
   "cell_type": "code",
   "execution_count": 3,
   "id": "25bfe739-8d9d-4454-bab4-61ba3c13be28",
   "metadata": {
    "tags": []
   },
   "outputs": [
    {
     "name": "stdout",
     "output_type": "stream",
     "text": [
      "Please provide your Kaggle credentials to download this dataset. Learn more: http://bit.ly/kaggle-creds\n",
      "Your Kaggle username:"
     ]
    },
    {
     "name": "stdin",
     "output_type": "stream",
     "text": [
      "  nathanaelhutama\n"
     ]
    },
    {
     "name": "stdout",
     "output_type": "stream",
     "text": [
      "Your Kaggle Key:"
     ]
    },
    {
     "name": "stdin",
     "output_type": "stream",
     "text": [
      "  ········\n"
     ]
    },
    {
     "name": "stdout",
     "output_type": "stream",
     "text": [
      "Downloading tomatoseedsdatasetjm.zip to ./tomatoseedsdatasetjm\n"
     ]
    },
    {
     "name": "stderr",
     "output_type": "stream",
     "text": [
      "100%|██████████| 414M/414M [00:22<00:00, 18.9MB/s] \n"
     ]
    },
    {
     "name": "stdout",
     "output_type": "stream",
     "text": [
      "\n"
     ]
    }
   ],
   "source": [
    "import opendatasets as od\n",
    "import pandas\n",
    "\n",
    "od.download('https://www.kaggle.com/datasets/juanma9901/tomatoseedsdatasetjm')"
   ]
  },
  {
   "cell_type": "code",
   "execution_count": null,
   "id": "3c5343eb-60e7-4a0a-86fa-cdb09f94f53e",
   "metadata": {},
   "outputs": [],
   "source": [
    "!mkdir tfrecords weights"
   ]
  },
  {
   "cell_type": "code",
   "execution_count": 6,
   "id": "a3fe7ed2-e224-407a-9a9e-4ebfb582dadd",
   "metadata": {
    "tags": []
   },
   "outputs": [
    {
     "name": "stdout",
     "output_type": "stream",
     "text": [
      "2023-03-05 09:26:57.517504: I tensorflow/core/platform/cpu_feature_guard.cc:193] This TensorFlow binary is optimized with oneAPI Deep Neural Network Library (oneDNN) to use the following CPU instructions in performance-critical operations:  AVX2 FMA\n",
      "To enable them in other operations, rebuild TensorFlow with the appropriate compiler flags.\n",
      "I0305 09:26:58.925148 140597786609472 make_TFrecords.py:84] Initializing Variables\n",
      "I0305 09:26:58.926315 140597786609472 make_TFrecords.py:96] Spliting Data Files\n",
      "I0305 09:26:58.930300 140597786609472 make_TFrecords.py:99] Writing tfrecords files\n",
      "2023-03-05 09:26:58.931258: I tensorflow/core/platform/cpu_feature_guard.cc:193] This TensorFlow binary is optimized with oneAPI Deep Neural Network Library (oneDNN) to use the following CPU instructions in performance-critical operations:  AVX2 FMA\n",
      "To enable them in other operations, rebuild TensorFlow with the appropriate compiler flags.\n",
      "2023-03-05 09:26:59.400942: I tensorflow/core/common_runtime/gpu/gpu_device.cc:1613] Created device /job:localhost/replica:0/task:0/device:GPU:0 with 7459 MB memory:  -> device: 0, name: A100-SXM4-40GB MIG 0g.10gb, pci bus id: 0000:b7:00.0, compute capability: 8.0\n"
     ]
    }
   ],
   "source": [
    "!python3 make_TFrecords.py --img_path=./tomatoseedsdatasetjm/JPEGImages/ --mask_path=./tomatoseedsdatasetjm/SegmentationClass/ --labels=./tomatoseedsdatasetjm/labelmap.txt"
   ]
  },
  {
   "cell_type": "code",
   "execution_count": 19,
   "id": "dd1bfc49-19a7-47cf-b184-c3b59d86cf4f",
   "metadata": {
    "collapsed": true,
    "jupyter": {
     "outputs_hidden": true
    },
    "tags": []
   },
   "outputs": [
    {
     "name": "stdout",
     "output_type": "stream",
     "text": [
      "2023-03-05 12:23:44.470388: I tensorflow/core/platform/cpu_feature_guard.cc:193] This TensorFlow binary is optimized with oneAPI Deep Neural Network Library (oneDNN) to use the following CPU instructions in performance-critical operations:  AVX2 FMA\n",
      "To enable them in other operations, rebuild TensorFlow with the appropriate compiler flags.\n",
      "2023-03-05 12:23:46.276119: I tensorflow/core/platform/cpu_feature_guard.cc:193] This TensorFlow binary is optimized with oneAPI Deep Neural Network Library (oneDNN) to use the following CPU instructions in performance-critical operations:  AVX2 FMA\n",
      "To enable them in other operations, rebuild TensorFlow with the appropriate compiler flags.\n",
      "2023-03-05 12:23:46.752424: I tensorflow/core/common_runtime/gpu/gpu_device.cc:1613] Created device /job:localhost/replica:0/task:0/device:GPU:0 with 7459 MB memory:  -> device: 0, name: A100-SXM4-40GB MIG 0g.10gb, pci bus id: 0000:b7:00.0, compute capability: 8.0\n",
      "WARNING:tensorflow:From /usr/local/lib/python3.8/dist-packages/tensorflow/python/autograph/pyct/static_analysis/liveness.py:83: Analyzer.lamba_check (from tensorflow.python.autograph.pyct.static_analysis.liveness) is deprecated and will be removed after 2023-09-23.\n",
      "Instructions for updating:\n",
      "Lambda fuctions will be no more assumed to be used in the statement where they are used, or at least in the same block. https://github.com/tensorflow/tensorflow/issues/56089\n",
      "W0305 12:23:46.853398 140072361248576 deprecation.py:350] From /usr/local/lib/python3.8/dist-packages/tensorflow/python/autograph/pyct/static_analysis/liveness.py:83: Analyzer.lamba_check (from tensorflow.python.autograph.pyct.static_analysis.liveness) is deprecated and will be removed after 2023-09-23.\n",
      "Instructions for updating:\n",
      "Lambda fuctions will be no more assumed to be used in the statement where they are used, or at least in the same block. https://github.com/tensorflow/tensorflow/issues/56089\n",
      "WARNING:tensorflow:`input_shape` is undefined or non-square, or `rows` is not in [96, 128, 160, 192, 224]. Weights for input shape (224, 224) will be loaded as the default.\n",
      "W0305 12:23:48.186098 140072361248576 mobilenet_v2.py:326] `input_shape` is undefined or non-square, or `rows` is not in [96, 128, 160, 192, 224]. Weights for input shape (224, 224) will be loaded as the default.\n",
      "Epoch 1/50\n",
      "2023-03-05 12:23:53.404104: I tensorflow/compiler/xla/stream_executor/cuda/cuda_dnn.cc:428] Loaded cuDNN version 8101\n",
      "2023-03-05 12:23:55.031480: I tensorflow/compiler/xla/service/service.cc:173] XLA service 0x7f6041937de0 initialized for platform CUDA (this does not guarantee that XLA will be used). Devices:\n",
      "2023-03-05 12:23:55.031529: I tensorflow/compiler/xla/service/service.cc:181]   StreamExecutor device (0): A100-SXM4-40GB MIG 0g.10gb, Compute Capability 8.0\n",
      "2023-03-05 12:23:55.036465: I tensorflow/compiler/mlir/tensorflow/utils/dump_mlir_util.cc:268] disabling MLIR crash reproducer, set env var `MLIR_CRASH_REPRODUCER_DIRECTORY` to enable.\n",
      "2023-03-05 12:23:55.155425: I tensorflow/compiler/jit/xla_compilation_cache.cc:477] Compiled cluster using XLA!  This line is logged at most once for the lifetime of the process.\n",
      "31/31 [==============================] - 10s 111ms/step - loss: 0.1341 - accuracy: 0.9821 - val_loss: 0.0535 - val_accuracy: 0.9995\n",
      "Epoch 2/50\n",
      "31/31 [==============================] - 3s 82ms/step - loss: 0.0375 - accuracy: 0.9928 - val_loss: 0.0239 - val_accuracy: 0.9895\n",
      "Epoch 3/50\n",
      "31/31 [==============================] - 3s 77ms/step - loss: 0.0251 - accuracy: 0.9889 - val_loss: 0.0203 - val_accuracy: 0.9891\n",
      "Epoch 4/50\n",
      "31/31 [==============================] - 3s 78ms/step - loss: 0.0221 - accuracy: 0.9884 - val_loss: 0.0183 - val_accuracy: 0.9882\n",
      "Epoch 5/50\n",
      "29/31 [===========================>..] - ETA: 0s - loss: 0.0204 - accuracy: 0.9881\n",
      "Epoch 5: saving model to ./weights/second/cp-0005.ckpt\n",
      "31/31 [==============================] - 4s 91ms/step - loss: 0.0202 - accuracy: 0.9882 - val_loss: 0.0168 - val_accuracy: 0.9879\n",
      "Epoch 6/50\n",
      "31/31 [==============================] - 4s 83ms/step - loss: 0.0181 - accuracy: 0.9879 - val_loss: 0.0157 - val_accuracy: 0.9870\n",
      "Epoch 7/50\n",
      "31/31 [==============================] - 3s 79ms/step - loss: 0.0163 - accuracy: 0.9875 - val_loss: 0.0139 - val_accuracy: 0.9872\n",
      "Epoch 8/50\n",
      "31/31 [==============================] - 3s 84ms/step - loss: 0.0143 - accuracy: 0.9871 - val_loss: 0.0126 - val_accuracy: 0.9865\n",
      "Epoch 9/50\n",
      "31/31 [==============================] - 3s 80ms/step - loss: 0.0125 - accuracy: 0.9868 - val_loss: 0.0109 - val_accuracy: 0.9862\n",
      "Epoch 10/50\n",
      "30/31 [============================>.] - ETA: 0s - loss: 0.0112 - accuracy: 0.9864\n",
      "Epoch 10: saving model to ./weights/second/cp-0010.ckpt\n",
      "31/31 [==============================] - 4s 91ms/step - loss: 0.0113 - accuracy: 0.9864 - val_loss: 0.0106 - val_accuracy: 0.9878\n",
      "Epoch 11/50\n",
      "31/31 [==============================] - 4s 88ms/step - loss: 0.0107 - accuracy: 0.9863 - val_loss: 0.0098 - val_accuracy: 0.9872\n",
      "Epoch 12/50\n",
      "31/31 [==============================] - 3s 77ms/step - loss: 0.0103 - accuracy: 0.9864 - val_loss: 0.0093 - val_accuracy: 0.9867\n",
      "Epoch 13/50\n",
      "31/31 [==============================] - 3s 77ms/step - loss: 0.0097 - accuracy: 0.9862 - val_loss: 0.0091 - val_accuracy: 0.9869\n",
      "Epoch 14/50\n",
      "31/31 [==============================] - 3s 76ms/step - loss: 0.0095 - accuracy: 0.9862 - val_loss: 0.0090 - val_accuracy: 0.9864\n",
      "Epoch 15/50\n",
      "29/31 [===========================>..] - ETA: 0s - loss: 0.0093 - accuracy: 0.9860\n",
      "Epoch 15: saving model to ./weights/second/cp-0015.ckpt\n",
      "31/31 [==============================] - 3s 85ms/step - loss: 0.0091 - accuracy: 0.9860 - val_loss: 0.0088 - val_accuracy: 0.9869\n",
      "Epoch 16/50\n",
      "31/31 [==============================] - 3s 78ms/step - loss: 0.0089 - accuracy: 0.9861 - val_loss: 0.0092 - val_accuracy: 0.9853\n",
      "Epoch 17/50\n",
      "31/31 [==============================] - 3s 83ms/step - loss: 0.0090 - accuracy: 0.9860 - val_loss: 0.0085 - val_accuracy: 0.9864\n",
      "Epoch 18/50\n",
      "31/31 [==============================] - 3s 76ms/step - loss: 0.0086 - accuracy: 0.9861 - val_loss: 0.0084 - val_accuracy: 0.9868\n",
      "Epoch 19/50\n",
      "31/31 [==============================] - 3s 76ms/step - loss: 0.0085 - accuracy: 0.9860 - val_loss: 0.0083 - val_accuracy: 0.9866\n",
      "Epoch 20/50\n",
      "30/31 [============================>.] - ETA: 0s - loss: 0.0085 - accuracy: 0.9861\n",
      "Epoch 20: saving model to ./weights/second/cp-0020.ckpt\n",
      "31/31 [==============================] - 3s 82ms/step - loss: 0.0085 - accuracy: 0.9861 - val_loss: 0.0082 - val_accuracy: 0.9865\n",
      "Epoch 21/50\n",
      "31/31 [==============================] - 3s 75ms/step - loss: 0.0083 - accuracy: 0.9860 - val_loss: 0.0087 - val_accuracy: 0.9853\n",
      "Epoch 22/50\n",
      "31/31 [==============================] - 3s 75ms/step - loss: 0.0083 - accuracy: 0.9860 - val_loss: 0.0081 - val_accuracy: 0.9864\n",
      "Epoch 23/50\n",
      "31/31 [==============================] - 3s 77ms/step - loss: 0.0082 - accuracy: 0.9860 - val_loss: 0.0080 - val_accuracy: 0.9865\n",
      "Epoch 24/50\n",
      "31/31 [==============================] - 3s 82ms/step - loss: 0.0080 - accuracy: 0.9860 - val_loss: 0.0083 - val_accuracy: 0.9865\n",
      "Epoch 25/50\n",
      "28/31 [==========================>...] - ETA: 0s - loss: 0.0080 - accuracy: 0.9860\n",
      "Epoch 25: saving model to ./weights/second/cp-0025.ckpt\n",
      "31/31 [==============================] - 3s 83ms/step - loss: 0.0079 - accuracy: 0.9860 - val_loss: 0.0078 - val_accuracy: 0.9864\n",
      "Epoch 26/50\n",
      "31/31 [==============================] - 3s 76ms/step - loss: 0.0079 - accuracy: 0.9860 - val_loss: 0.0083 - val_accuracy: 0.9854\n",
      "Epoch 27/50\n",
      "31/31 [==============================] - 3s 75ms/step - loss: 0.0081 - accuracy: 0.9859 - val_loss: 0.0079 - val_accuracy: 0.9861\n",
      "Epoch 28/50\n",
      "31/31 [==============================] - 3s 75ms/step - loss: 0.0078 - accuracy: 0.9860 - val_loss: 0.0078 - val_accuracy: 0.9859\n",
      "Epoch 29/50\n",
      "31/31 [==============================] - 3s 75ms/step - loss: 0.0078 - accuracy: 0.9859 - val_loss: 0.0081 - val_accuracy: 0.9869\n",
      "Epoch 30/50\n",
      "30/31 [============================>.] - ETA: 0s - loss: 0.0078 - accuracy: 0.9860\n",
      "Epoch 30: saving model to ./weights/second/cp-0030.ckpt\n",
      "31/31 [==============================] - 3s 82ms/step - loss: 0.0078 - accuracy: 0.9860 - val_loss: 0.0076 - val_accuracy: 0.9866\n",
      "Epoch 31/50\n",
      "31/31 [==============================] - 3s 76ms/step - loss: 0.0074 - accuracy: 0.9859 - val_loss: 0.0077 - val_accuracy: 0.9868\n",
      "Epoch 32/50\n",
      "31/31 [==============================] - 3s 78ms/step - loss: 0.0075 - accuracy: 0.9860 - val_loss: 0.0076 - val_accuracy: 0.9864\n",
      "Epoch 33/50\n",
      "31/31 [==============================] - 3s 76ms/step - loss: 0.0075 - accuracy: 0.9859 - val_loss: 0.0080 - val_accuracy: 0.9855\n",
      "Epoch 34/50\n",
      "31/31 [==============================] - 3s 76ms/step - loss: 0.0074 - accuracy: 0.9859 - val_loss: 0.0076 - val_accuracy: 0.9859\n",
      "Epoch 35/50\n",
      "30/31 [============================>.] - ETA: 0s - loss: 0.0074 - accuracy: 0.9858\n",
      "Epoch 35: saving model to ./weights/second/cp-0035.ckpt\n",
      "31/31 [==============================] - 3s 87ms/step - loss: 0.0074 - accuracy: 0.9859 - val_loss: 0.0076 - val_accuracy: 0.9864\n",
      "Epoch 36/50\n",
      "31/31 [==============================] - 3s 75ms/step - loss: 0.0071 - accuracy: 0.9859 - val_loss: 0.0075 - val_accuracy: 0.9867\n",
      "Epoch 37/50\n",
      "31/31 [==============================] - 3s 76ms/step - loss: 0.0071 - accuracy: 0.9859 - val_loss: 0.0074 - val_accuracy: 0.9861\n",
      "Epoch 38/50\n",
      "31/31 [==============================] - 3s 78ms/step - loss: 0.0071 - accuracy: 0.9859 - val_loss: 0.0075 - val_accuracy: 0.9862\n",
      "Epoch 39/50\n",
      "31/31 [==============================] - 3s 82ms/step - loss: 0.0071 - accuracy: 0.9859 - val_loss: 0.0074 - val_accuracy: 0.9866\n",
      "Epoch 40/50\n",
      "29/31 [===========================>..] - ETA: 0s - loss: 0.0072 - accuracy: 0.9859\n",
      "Epoch 40: saving model to ./weights/second/cp-0040.ckpt\n",
      "31/31 [==============================] - 3s 85ms/step - loss: 0.0071 - accuracy: 0.9859 - val_loss: 0.0078 - val_accuracy: 0.9855\n",
      "Epoch 41/50\n",
      "31/31 [==============================] - 3s 77ms/step - loss: 0.0070 - accuracy: 0.9858 - val_loss: 0.0075 - val_accuracy: 0.9863\n",
      "Epoch 42/50\n",
      "31/31 [==============================] - 3s 78ms/step - loss: 0.0069 - accuracy: 0.9859 - val_loss: 0.0074 - val_accuracy: 0.9868\n",
      "Epoch 43/50\n",
      "31/31 [==============================] - 3s 87ms/step - loss: 0.0069 - accuracy: 0.9858 - val_loss: 0.0074 - val_accuracy: 0.9863\n",
      "Epoch 44/50\n",
      "31/31 [==============================] - 3s 76ms/step - loss: 0.0069 - accuracy: 0.9859 - val_loss: 0.0073 - val_accuracy: 0.9867\n",
      "Epoch 45/50\n",
      "30/31 [============================>.] - ETA: 0s - loss: 0.0069 - accuracy: 0.9859\n",
      "Epoch 45: saving model to ./weights/second/cp-0045.ckpt\n",
      "31/31 [==============================] - 4s 91ms/step - loss: 0.0070 - accuracy: 0.9859 - val_loss: 0.0074 - val_accuracy: 0.9866\n",
      "Epoch 46/50\n",
      "31/31 [==============================] - 3s 77ms/step - loss: 0.0069 - accuracy: 0.9858 - val_loss: 0.0074 - val_accuracy: 0.9861\n",
      "Epoch 47/50\n",
      "31/31 [==============================] - 3s 82ms/step - loss: 0.0068 - accuracy: 0.9859 - val_loss: 0.0074 - val_accuracy: 0.9867\n",
      "Epoch 48/50\n",
      "31/31 [==============================] - 3s 81ms/step - loss: 0.0068 - accuracy: 0.9858 - val_loss: 0.0075 - val_accuracy: 0.9857\n",
      "Epoch 49/50\n",
      "31/31 [==============================] - 3s 79ms/step - loss: 0.0068 - accuracy: 0.9858 - val_loss: 0.0074 - val_accuracy: 0.9861\n",
      "Epoch 50/50\n",
      "29/31 [===========================>..] - ETA: 0s - loss: 0.0067 - accuracy: 0.9858\n",
      "Epoch 50: saving model to ./weights/second/cp-0050.ckpt\n",
      "31/31 [==============================] - 4s 84ms/step - loss: 0.0066 - accuracy: 0.9858 - val_loss: 0.0074 - val_accuracy: 0.9863\n"
     ]
    }
   ],
   "source": [
    "!python3 train.py --train_Dataset=./tfrecords/train-data.tfrecord --val_Dataset=./tfrecords/val-data.tfrecord --weights=./weights/second/ --buffer_size=100 --batch_size=5 --epochs=50 --save_freq=5"
   ]
  },
  {
   "cell_type": "code",
   "execution_count": 46,
   "id": "af7e04e9-fc8d-42c6-8874-33a7fead33ae",
   "metadata": {
    "tags": []
   },
   "outputs": [
    {
     "name": "stdout",
     "output_type": "stream",
     "text": [
      "2023-03-05 15:09:28.405946: I tensorflow/core/platform/cpu_feature_guard.cc:193] This TensorFlow binary is optimized with oneAPI Deep Neural Network Library (oneDNN) to use the following CPU instructions in performance-critical operations:  AVX2 FMA\n",
      "To enable them in other operations, rebuild TensorFlow with the appropriate compiler flags.\n",
      "2023-03-05 15:09:30.191256: I tensorflow/core/platform/cpu_feature_guard.cc:193] This TensorFlow binary is optimized with oneAPI Deep Neural Network Library (oneDNN) to use the following CPU instructions in performance-critical operations:  AVX2 FMA\n",
      "To enable them in other operations, rebuild TensorFlow with the appropriate compiler flags.\n",
      "2023-03-05 15:09:30.670208: I tensorflow/core/common_runtime/gpu/gpu_device.cc:1613] Created device /job:localhost/replica:0/task:0/device:GPU:0 with 7459 MB memory:  -> device: 0, name: A100-SXM4-40GB MIG 0g.10gb, pci bus id: 0000:b7:00.0, compute capability: 8.0\n",
      "2023-03-05 15:09:33.891059: I tensorflow/compiler/xla/stream_executor/cuda/cuda_dnn.cc:428] Loaded cuDNN version 8101\n",
      "1/1 [==============================] - 3s 3s/step\n",
      "--- 2.8708395957946777 seconds ---\n",
      "Figure(1500x1500)\n",
      "I0305 15:09:35.834620 139780745447232 predict.py:75] ./result/2021-03-11062912.png saved\n"
     ]
    }
   ],
   "source": [
    "!python3 predict.py --image_path=./tomatoseedsdatasetjm/JPEGImages/2021-03-11062912.jpg --mask_path=./result/2021-03-11062912.png --labels=./tomatoseedsdatasetjm/labelmap.txt --show_results=True --weights=./weights/second/cp-0050.ckpt"
   ]
  },
  {
   "cell_type": "code",
   "execution_count": 37,
   "id": "e16d5c29-c633-4bb7-b797-e9ed42eba630",
   "metadata": {
    "tags": []
   },
   "outputs": [
    {
     "name": "stdout",
     "output_type": "stream",
     "text": [
      "The tensorboard extension is already loaded. To reload it, use:\n",
      "  %reload_ext tensorboard\n"
     ]
    }
   ],
   "source": [
    "%load_ext tensorboard"
   ]
  },
  {
   "cell_type": "code",
   "execution_count": 39,
   "id": "40988675-5048-4290-a663-8801c5471f91",
   "metadata": {
    "collapsed": true,
    "jupyter": {
     "outputs_hidden": true
    },
    "tags": []
   },
   "outputs": [
    {
     "data": {
      "text/html": [
       "\n",
       "      <iframe id=\"tensorboard-frame-ffee23c998ba57b7\" width=\"100%\" height=\"800\" frameborder=\"0\">\n",
       "      </iframe>\n",
       "      <script>\n",
       "        (function() {\n",
       "          const frame = document.getElementById(\"tensorboard-frame-ffee23c998ba57b7\");\n",
       "          const url = new URL(\"/\", window.location);\n",
       "          const port = 6006;\n",
       "          if (port) {\n",
       "            url.port = port;\n",
       "          }\n",
       "          frame.src = url;\n",
       "        })();\n",
       "      </script>\n",
       "    "
      ],
      "text/plain": [
       "<IPython.core.display.HTML object>"
      ]
     },
     "metadata": {},
     "output_type": "display_data"
    }
   ],
   "source": [
    "%tensorboard --logdir logs"
   ]
  },
  {
   "cell_type": "code",
   "execution_count": 40,
   "id": "eeb14352-952b-4237-a8cd-73854950249a",
   "metadata": {
    "tags": []
   },
   "outputs": [
    {
     "name": "stdout",
     "output_type": "stream",
     "text": [
      "Known TensorBoard instances:\n",
      "  - port 6006: logdir logs (started 0:00:06 ago; pid 5409)\n"
     ]
    }
   ],
   "source": [
    "from tensorboard import notebook\n",
    "notebook.list() # View open TensorBoard instances"
   ]
  },
  {
   "cell_type": "code",
   "execution_count": 33,
   "id": "db7959d3-0b19-4a96-90f1-d7f457382f65",
   "metadata": {
    "tags": []
   },
   "outputs": [],
   "source": [
    "!kill 5225"
   ]
  }
 ],
 "metadata": {
  "kernelspec": {
   "display_name": "Python 3 (ipykernel)",
   "language": "python",
   "name": "python3"
  },
  "language_info": {
   "codemirror_mode": {
    "name": "ipython",
    "version": 3
   },
   "file_extension": ".py",
   "mimetype": "text/x-python",
   "name": "python",
   "nbconvert_exporter": "python",
   "pygments_lexer": "ipython3",
   "version": "3.8.10"
  }
 },
 "nbformat": 4,
 "nbformat_minor": 5
}
