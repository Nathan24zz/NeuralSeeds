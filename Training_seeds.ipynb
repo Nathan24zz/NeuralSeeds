{
 "cells": [
  {
   "cell_type": "code",
   "execution_count": 1,
   "id": "3c035334-99fa-4a64-89f2-36554b1ee9fd",
   "metadata": {
    "collapsed": true,
    "jupyter": {
     "outputs_hidden": true
    },
    "tags": []
   },
   "outputs": [
    {
     "name": "stdout",
     "output_type": "stream",
     "text": [
      "Defaulting to user installation because normal site-packages is not writeable\n",
      "Collecting opendatasets\n",
      "  Downloading opendatasets-0.1.22-py3-none-any.whl (15 kB)\n",
      "Requirement already satisfied: pandas in /usr/local/lib/python3.8/dist-packages (1.5.3)\n",
      "Collecting kaggle\n",
      "  Downloading kaggle-1.5.13.tar.gz (63 kB)\n",
      "\u001b[2K     \u001b[90m━━━━━━━━━━━━━━━━━━━━━━━━━━━━━━━━━━━━━━━━\u001b[0m \u001b[32m63.3/63.3 kB\u001b[0m \u001b[31m1.9 MB/s\u001b[0m eta \u001b[36m0:00:00\u001b[0m\n",
      "\u001b[?25h  Preparing metadata (setup.py) ... \u001b[?25ldone\n",
      "\u001b[?25hCollecting click\n",
      "  Downloading click-8.1.3-py3-none-any.whl (96 kB)\n",
      "\u001b[2K     \u001b[90m━━━━━━━━━━━━━━━━━━━━━━━━━━━━━━━━━━━━━━━━\u001b[0m \u001b[32m96.6/96.6 kB\u001b[0m \u001b[31m8.3 MB/s\u001b[0m eta \u001b[36m0:00:00\u001b[0m\n",
      "\u001b[?25hRequirement already satisfied: tqdm in /usr/local/lib/python3.8/dist-packages (from opendatasets) (4.65.0)\n",
      "Requirement already satisfied: numpy>=1.20.3 in /usr/local/lib/python3.8/dist-packages (from pandas) (1.24.2)\n",
      "Requirement already satisfied: pytz>=2020.1 in /usr/local/lib/python3.8/dist-packages (from pandas) (2022.7.1)\n",
      "Requirement already satisfied: python-dateutil>=2.8.1 in /usr/local/lib/python3.8/dist-packages (from pandas) (2.8.2)\n",
      "Requirement already satisfied: six>=1.5 in /usr/lib/python3/dist-packages (from python-dateutil>=2.8.1->pandas) (1.14.0)\n",
      "Requirement already satisfied: certifi in /usr/lib/python3/dist-packages (from kaggle->opendatasets) (2019.11.28)\n",
      "Requirement already satisfied: requests in /usr/local/lib/python3.8/dist-packages (from kaggle->opendatasets) (2.28.2)\n",
      "Collecting python-slugify\n",
      "  Downloading python_slugify-8.0.1-py2.py3-none-any.whl (9.7 kB)\n",
      "Requirement already satisfied: urllib3 in /usr/lib/python3/dist-packages (from kaggle->opendatasets) (1.25.8)\n",
      "Collecting text-unidecode>=1.3\n",
      "  Downloading text_unidecode-1.3-py2.py3-none-any.whl (78 kB)\n",
      "\u001b[2K     \u001b[90m━━━━━━━━━━━━━━━━━━━━━━━━━━━━━━━━━━━━━━━━\u001b[0m \u001b[32m78.2/78.2 kB\u001b[0m \u001b[31m15.4 MB/s\u001b[0m eta \u001b[36m0:00:00\u001b[0m\n",
      "\u001b[?25hRequirement already satisfied: idna<4,>=2.5 in /usr/lib/python3/dist-packages (from requests->kaggle->opendatasets) (2.8)\n",
      "Requirement already satisfied: charset-normalizer<4,>=2 in /usr/local/lib/python3.8/dist-packages (from requests->kaggle->opendatasets) (3.0.1)\n",
      "Building wheels for collected packages: kaggle\n",
      "  Building wheel for kaggle (setup.py) ... \u001b[?25ldone\n",
      "\u001b[?25h  Created wheel for kaggle: filename=kaggle-1.5.13-py3-none-any.whl size=77721 sha256=53f35dd9130091a649e31330dd11d1f0c198d0aab6feb32b9bad5728367c59e8\n",
      "  Stored in directory: /home/riset/.cache/pip/wheels/e6/8e/67/e07554a720a493dc6b39b30488590ba92ed45448ad0134d253\n",
      "Successfully built kaggle\n",
      "Installing collected packages: text-unidecode, python-slugify, click, kaggle, opendatasets\n",
      "\u001b[33m  WARNING: The script slugify is installed in '/home/riset/.local/bin' which is not on PATH.\n",
      "  Consider adding this directory to PATH or, if you prefer to suppress this warning, use --no-warn-script-location.\u001b[0m\u001b[33m\n",
      "\u001b[0m\u001b[33m  WARNING: The script kaggle is installed in '/home/riset/.local/bin' which is not on PATH.\n",
      "  Consider adding this directory to PATH or, if you prefer to suppress this warning, use --no-warn-script-location.\u001b[0m\u001b[33m\n",
      "\u001b[0mSuccessfully installed click-8.1.3 kaggle-1.5.13 opendatasets-0.1.22 python-slugify-8.0.1 text-unidecode-1.3\n"
     ]
    }
   ],
   "source": [
    "!pip install opendatasets pandas"
   ]
  },
  {
   "cell_type": "code",
   "execution_count": 3,
   "id": "25bfe739-8d9d-4454-bab4-61ba3c13be28",
   "metadata": {
    "tags": []
   },
   "outputs": [
    {
     "name": "stdout",
     "output_type": "stream",
     "text": [
      "Please provide your Kaggle credentials to download this dataset. Learn more: http://bit.ly/kaggle-creds\n",
      "Your Kaggle username:"
     ]
    },
    {
     "name": "stdin",
     "output_type": "stream",
     "text": [
      "  nathanaelhutama\n"
     ]
    },
    {
     "name": "stdout",
     "output_type": "stream",
     "text": [
      "Your Kaggle Key:"
     ]
    },
    {
     "name": "stdin",
     "output_type": "stream",
     "text": [
      "  ········\n"
     ]
    },
    {
     "name": "stdout",
     "output_type": "stream",
     "text": [
      "Downloading tomatoseedsdatasetjm.zip to ./tomatoseedsdatasetjm\n"
     ]
    },
    {
     "name": "stderr",
     "output_type": "stream",
     "text": [
      "100%|██████████| 414M/414M [00:22<00:00, 18.9MB/s] \n"
     ]
    },
    {
     "name": "stdout",
     "output_type": "stream",
     "text": [
      "\n"
     ]
    }
   ],
   "source": [
    "import opendatasets as od\n",
    "import pandas\n",
    "\n",
    "od.download('https://www.kaggle.com/datasets/juanma9901/tomatoseedsdatasetjm')"
   ]
  },
  {
   "cell_type": "code",
   "execution_count": null,
   "id": "3c5343eb-60e7-4a0a-86fa-cdb09f94f53e",
   "metadata": {},
   "outputs": [],
   "source": [
    "!mkdir tfrecords weights"
   ]
  },
  {
   "cell_type": "code",
   "execution_count": 6,
   "id": "a3fe7ed2-e224-407a-9a9e-4ebfb582dadd",
   "metadata": {
    "tags": []
   },
   "outputs": [
    {
     "name": "stdout",
     "output_type": "stream",
     "text": [
      "2023-03-05 09:26:57.517504: I tensorflow/core/platform/cpu_feature_guard.cc:193] This TensorFlow binary is optimized with oneAPI Deep Neural Network Library (oneDNN) to use the following CPU instructions in performance-critical operations:  AVX2 FMA\n",
      "To enable them in other operations, rebuild TensorFlow with the appropriate compiler flags.\n",
      "I0305 09:26:58.925148 140597786609472 make_TFrecords.py:84] Initializing Variables\n",
      "I0305 09:26:58.926315 140597786609472 make_TFrecords.py:96] Spliting Data Files\n",
      "I0305 09:26:58.930300 140597786609472 make_TFrecords.py:99] Writing tfrecords files\n",
      "2023-03-05 09:26:58.931258: I tensorflow/core/platform/cpu_feature_guard.cc:193] This TensorFlow binary is optimized with oneAPI Deep Neural Network Library (oneDNN) to use the following CPU instructions in performance-critical operations:  AVX2 FMA\n",
      "To enable them in other operations, rebuild TensorFlow with the appropriate compiler flags.\n",
      "2023-03-05 09:26:59.400942: I tensorflow/core/common_runtime/gpu/gpu_device.cc:1613] Created device /job:localhost/replica:0/task:0/device:GPU:0 with 7459 MB memory:  -> device: 0, name: A100-SXM4-40GB MIG 0g.10gb, pci bus id: 0000:b7:00.0, compute capability: 8.0\n"
     ]
    }
   ],
   "source": [
    "!python3 make_TFrecords.py --img_path=./tomatoseedsdatasetjm/JPEGImages/ --mask_path=./tomatoseedsdatasetjm/SegmentationClass/ --labels=./tomatoseedsdatasetjm/labelmap.txt"
   ]
  },
  {
   "cell_type": "code",
   "execution_count": 8,
   "id": "dd1bfc49-19a7-47cf-b184-c3b59d86cf4f",
   "metadata": {
    "collapsed": true,
    "jupyter": {
     "outputs_hidden": true
    },
    "tags": []
   },
   "outputs": [
    {
     "name": "stdout",
     "output_type": "stream",
     "text": [
      "2023-03-05 09:34:36.637733: I tensorflow/core/platform/cpu_feature_guard.cc:193] This TensorFlow binary is optimized with oneAPI Deep Neural Network Library (oneDNN) to use the following CPU instructions in performance-critical operations:  AVX2 FMA\n",
      "To enable them in other operations, rebuild TensorFlow with the appropriate compiler flags.\n",
      "2023-03-05 09:34:38.378833: I tensorflow/core/platform/cpu_feature_guard.cc:193] This TensorFlow binary is optimized with oneAPI Deep Neural Network Library (oneDNN) to use the following CPU instructions in performance-critical operations:  AVX2 FMA\n",
      "To enable them in other operations, rebuild TensorFlow with the appropriate compiler flags.\n",
      "2023-03-05 09:34:38.849297: I tensorflow/core/common_runtime/gpu/gpu_device.cc:1613] Created device /job:localhost/replica:0/task:0/device:GPU:0 with 7459 MB memory:  -> device: 0, name: A100-SXM4-40GB MIG 0g.10gb, pci bus id: 0000:b7:00.0, compute capability: 8.0\n",
      "WARNING:tensorflow:From /usr/local/lib/python3.8/dist-packages/tensorflow/python/autograph/pyct/static_analysis/liveness.py:83: Analyzer.lamba_check (from tensorflow.python.autograph.pyct.static_analysis.liveness) is deprecated and will be removed after 2023-09-23.\n",
      "Instructions for updating:\n",
      "Lambda fuctions will be no more assumed to be used in the statement where they are used, or at least in the same block. https://github.com/tensorflow/tensorflow/issues/56089\n",
      "W0305 09:34:38.949727 140658262992704 deprecation.py:350] From /usr/local/lib/python3.8/dist-packages/tensorflow/python/autograph/pyct/static_analysis/liveness.py:83: Analyzer.lamba_check (from tensorflow.python.autograph.pyct.static_analysis.liveness) is deprecated and will be removed after 2023-09-23.\n",
      "Instructions for updating:\n",
      "Lambda fuctions will be no more assumed to be used in the statement where they are used, or at least in the same block. https://github.com/tensorflow/tensorflow/issues/56089\n",
      "WARNING:tensorflow:`input_shape` is undefined or non-square, or `rows` is not in [96, 128, 160, 192, 224]. Weights for input shape (224, 224) will be loaded as the default.\n",
      "W0305 09:34:40.362436 140658262992704 mobilenet_v2.py:326] `input_shape` is undefined or non-square, or `rows` is not in [96, 128, 160, 192, 224]. Weights for input shape (224, 224) will be loaded as the default.\n",
      "Downloading data from https://storage.googleapis.com/tensorflow/keras-applications/mobilenet_v2/mobilenet_v2_weights_tf_dim_ordering_tf_kernels_1.0_224_no_top.h5\n",
      "9406464/9406464 [==============================] - 0s 0us/step\n",
      "Epoch 1/50\n",
      "2023-03-05 09:34:46.877199: I tensorflow/compiler/xla/stream_executor/cuda/cuda_dnn.cc:428] Loaded cuDNN version 8101\n",
      "2023-03-05 09:34:48.745173: I tensorflow/compiler/xla/service/service.cc:173] XLA service 0x7fe8b5596280 initialized for platform CUDA (this does not guarantee that XLA will be used). Devices:\n",
      "2023-03-05 09:34:48.745224: I tensorflow/compiler/xla/service/service.cc:181]   StreamExecutor device (0): A100-SXM4-40GB MIG 0g.10gb, Compute Capability 8.0\n",
      "2023-03-05 09:34:48.749996: I tensorflow/compiler/mlir/tensorflow/utils/dump_mlir_util.cc:268] disabling MLIR crash reproducer, set env var `MLIR_CRASH_REPRODUCER_DIRECTORY` to enable.\n",
      "2023-03-05 09:34:48.865657: I tensorflow/compiler/jit/xla_compilation_cache.cc:477] Compiled cluster using XLA!  This line is logged at most once for the lifetime of the process.\n",
      "31/31 [==============================] - 8s 65ms/step - loss: 0.1515 - accuracy: 0.9781 - val_loss: 0.0576 - val_accuracy: 0.9995\n",
      "Epoch 2/50\n",
      "31/31 [==============================] - 2s 36ms/step - loss: 0.0406 - accuracy: 0.9943 - val_loss: 0.0250 - val_accuracy: 0.9906\n",
      "Epoch 3/50\n",
      "31/31 [==============================] - 2s 36ms/step - loss: 0.0257 - accuracy: 0.9894 - val_loss: 0.0208 - val_accuracy: 0.9891\n",
      "Epoch 4/50\n",
      "31/31 [==============================] - 2s 36ms/step - loss: 0.0225 - accuracy: 0.9886 - val_loss: 0.0190 - val_accuracy: 0.9881\n",
      "Epoch 5/50\n",
      "29/31 [===========================>..] - ETA: 0s - loss: 0.0203 - accuracy: 0.9883\n",
      "Epoch 5: saving model to ./weightscp-0005.ckpt\n",
      "31/31 [==============================] - 2s 46ms/step - loss: 0.0205 - accuracy: 0.9883 - val_loss: 0.0173 - val_accuracy: 0.9894\n",
      "Epoch 6/50\n",
      "31/31 [==============================] - 2s 35ms/step - loss: 0.0184 - accuracy: 0.9880 - val_loss: 0.0161 - val_accuracy: 0.9875\n",
      "Epoch 7/50\n",
      "31/31 [==============================] - 2s 35ms/step - loss: 0.0159 - accuracy: 0.9875 - val_loss: 0.0144 - val_accuracy: 0.9878\n",
      "Epoch 8/50\n",
      "31/31 [==============================] - 2s 39ms/step - loss: 0.0144 - accuracy: 0.9872 - val_loss: 0.0121 - val_accuracy: 0.9870\n",
      "Epoch 9/50\n",
      "31/31 [==============================] - 2s 35ms/step - loss: 0.0126 - accuracy: 0.9868 - val_loss: 0.0115 - val_accuracy: 0.9875\n",
      "Epoch 10/50\n",
      "30/31 [============================>.] - ETA: 0s - loss: 0.0118 - accuracy: 0.9867\n",
      "Epoch 10: saving model to ./weightscp-0010.ckpt\n",
      "31/31 [==============================] - 2s 42ms/step - loss: 0.0119 - accuracy: 0.9865 - val_loss: 0.0114 - val_accuracy: 0.9859\n",
      "Epoch 11/50\n",
      "31/31 [==============================] - 2s 35ms/step - loss: 0.0107 - accuracy: 0.9865 - val_loss: 0.0098 - val_accuracy: 0.9864\n",
      "Epoch 12/50\n",
      "31/31 [==============================] - 2s 36ms/step - loss: 0.0102 - accuracy: 0.9863 - val_loss: 0.0099 - val_accuracy: 0.9864\n",
      "Epoch 13/50\n",
      "31/31 [==============================] - 2s 37ms/step - loss: 0.0100 - accuracy: 0.9862 - val_loss: 0.0093 - val_accuracy: 0.9861\n",
      "Epoch 14/50\n",
      "31/31 [==============================] - 2s 37ms/step - loss: 0.0095 - accuracy: 0.9862 - val_loss: 0.0090 - val_accuracy: 0.9871\n",
      "Epoch 15/50\n",
      "28/31 [==========================>...] - ETA: 0s - loss: 0.0092 - accuracy: 0.9862\n",
      "Epoch 15: saving model to ./weightscp-0015.ckpt\n",
      "31/31 [==============================] - 2s 48ms/step - loss: 0.0093 - accuracy: 0.9862 - val_loss: 0.0089 - val_accuracy: 0.9861\n",
      "Epoch 16/50\n",
      "31/31 [==============================] - 2s 35ms/step - loss: 0.0090 - accuracy: 0.9862 - val_loss: 0.0087 - val_accuracy: 0.9869\n",
      "Epoch 17/50\n",
      "31/31 [==============================] - 2s 35ms/step - loss: 0.0090 - accuracy: 0.9861 - val_loss: 0.0087 - val_accuracy: 0.9873\n",
      "Epoch 18/50\n",
      "31/31 [==============================] - 2s 35ms/step - loss: 0.0088 - accuracy: 0.9861 - val_loss: 0.0084 - val_accuracy: 0.9863\n",
      "Epoch 19/50\n",
      "31/31 [==============================] - 2s 36ms/step - loss: 0.0087 - accuracy: 0.9860 - val_loss: 0.0085 - val_accuracy: 0.9864\n",
      "Epoch 20/50\n",
      "29/31 [===========================>..] - ETA: 0s - loss: 0.0086 - accuracy: 0.9861\n",
      "Epoch 20: saving model to ./weightscp-0020.ckpt\n",
      "31/31 [==============================] - 2s 53ms/step - loss: 0.0086 - accuracy: 0.9861 - val_loss: 0.0082 - val_accuracy: 0.9867\n",
      "Epoch 21/50\n",
      "31/31 [==============================] - 2s 42ms/step - loss: 0.0084 - accuracy: 0.9860 - val_loss: 0.0084 - val_accuracy: 0.9856\n",
      "Epoch 22/50\n",
      "31/31 [==============================] - 2s 39ms/step - loss: 0.0085 - accuracy: 0.9860 - val_loss: 0.0083 - val_accuracy: 0.9870\n",
      "Epoch 23/50\n",
      "31/31 [==============================] - 2s 35ms/step - loss: 0.0081 - accuracy: 0.9860 - val_loss: 0.0080 - val_accuracy: 0.9865\n",
      "Epoch 24/50\n",
      "31/31 [==============================] - 2s 35ms/step - loss: 0.0081 - accuracy: 0.9860 - val_loss: 0.0083 - val_accuracy: 0.9853\n",
      "Epoch 25/50\n",
      "29/31 [===========================>..] - ETA: 0s - loss: 0.0079 - accuracy: 0.9860\n",
      "Epoch 25: saving model to ./weightscp-0025.ckpt\n",
      "31/31 [==============================] - 2s 50ms/step - loss: 0.0079 - accuracy: 0.9860 - val_loss: 0.0079 - val_accuracy: 0.9859\n",
      "Epoch 26/50\n",
      "31/31 [==============================] - 2s 41ms/step - loss: 0.0079 - accuracy: 0.9859 - val_loss: 0.0079 - val_accuracy: 0.9866\n",
      "Epoch 27/50\n",
      "31/31 [==============================] - 2s 35ms/step - loss: 0.0079 - accuracy: 0.9860 - val_loss: 0.0078 - val_accuracy: 0.9862\n",
      "Epoch 28/50\n",
      "31/31 [==============================] - 2s 37ms/step - loss: 0.0076 - accuracy: 0.9859 - val_loss: 0.0079 - val_accuracy: 0.9858\n",
      "Epoch 29/50\n",
      "31/31 [==============================] - 2s 36ms/step - loss: 0.0077 - accuracy: 0.9859 - val_loss: 0.0079 - val_accuracy: 0.9859\n",
      "Epoch 30/50\n",
      "29/31 [===========================>..] - ETA: 0s - loss: 0.0075 - accuracy: 0.9859\n",
      "Epoch 30: saving model to ./weightscp-0030.ckpt\n",
      "31/31 [==============================] - 2s 47ms/step - loss: 0.0076 - accuracy: 0.9859 - val_loss: 0.0077 - val_accuracy: 0.9864\n",
      "Epoch 31/50\n",
      "31/31 [==============================] - 2s 42ms/step - loss: 0.0076 - accuracy: 0.9859 - val_loss: 0.0078 - val_accuracy: 0.9861\n",
      "Epoch 32/50\n",
      "31/31 [==============================] - 2s 34ms/step - loss: 0.0075 - accuracy: 0.9859 - val_loss: 0.0076 - val_accuracy: 0.9869\n",
      "Epoch 33/50\n",
      "31/31 [==============================] - 2s 36ms/step - loss: 0.0074 - accuracy: 0.9859 - val_loss: 0.0080 - val_accuracy: 0.9859\n",
      "Epoch 34/50\n",
      "31/31 [==============================] - 2s 35ms/step - loss: 0.0076 - accuracy: 0.9859 - val_loss: 0.0077 - val_accuracy: 0.9861\n",
      "Epoch 35/50\n",
      "27/31 [=========================>....] - ETA: 0s - loss: 0.0073 - accuracy: 0.9859\n",
      "Epoch 35: saving model to ./weightscp-0035.ckpt\n",
      "31/31 [==============================] - 2s 41ms/step - loss: 0.0073 - accuracy: 0.9859 - val_loss: 0.0077 - val_accuracy: 0.9860\n",
      "Epoch 36/50\n",
      "31/31 [==============================] - 2s 34ms/step - loss: 0.0072 - accuracy: 0.9858 - val_loss: 0.0075 - val_accuracy: 0.9866\n",
      "Epoch 37/50\n",
      "31/31 [==============================] - 2s 34ms/step - loss: 0.0072 - accuracy: 0.9859 - val_loss: 0.0079 - val_accuracy: 0.9853\n",
      "Epoch 38/50\n",
      "31/31 [==============================] - 2s 34ms/step - loss: 0.0071 - accuracy: 0.9859 - val_loss: 0.0074 - val_accuracy: 0.9864\n",
      "Epoch 39/50\n",
      "31/31 [==============================] - 2s 36ms/step - loss: 0.0071 - accuracy: 0.9859 - val_loss: 0.0075 - val_accuracy: 0.9865\n",
      "Epoch 40/50\n",
      "27/31 [=========================>....] - ETA: 0s - loss: 0.0070 - accuracy: 0.9858\n",
      "Epoch 40: saving model to ./weightscp-0040.ckpt\n",
      "31/31 [==============================] - 2s 43ms/step - loss: 0.0070 - accuracy: 0.9858 - val_loss: 0.0076 - val_accuracy: 0.9859\n",
      "Epoch 41/50\n",
      "31/31 [==============================] - 2s 42ms/step - loss: 0.0069 - accuracy: 0.9859 - val_loss: 0.0074 - val_accuracy: 0.9860\n",
      "Epoch 42/50\n",
      "31/31 [==============================] - 2s 36ms/step - loss: 0.0069 - accuracy: 0.9859 - val_loss: 0.0074 - val_accuracy: 0.9863\n",
      "Epoch 43/50\n",
      "31/31 [==============================] - 2s 35ms/step - loss: 0.0069 - accuracy: 0.9858 - val_loss: 0.0077 - val_accuracy: 0.9858\n",
      "Epoch 44/50\n",
      "31/31 [==============================] - 2s 39ms/step - loss: 0.0069 - accuracy: 0.9858 - val_loss: 0.0076 - val_accuracy: 0.9867\n",
      "Epoch 45/50\n",
      "29/31 [===========================>..] - ETA: 0s - loss: 0.0068 - accuracy: 0.9859\n",
      "Epoch 45: saving model to ./weightscp-0045.ckpt\n",
      "31/31 [==============================] - 2s 42ms/step - loss: 0.0068 - accuracy: 0.9858 - val_loss: 0.0075 - val_accuracy: 0.9858\n",
      "Epoch 46/50\n",
      "31/31 [==============================] - 2s 34ms/step - loss: 0.0067 - accuracy: 0.9858 - val_loss: 0.0074 - val_accuracy: 0.9862\n",
      "Epoch 47/50\n",
      "31/31 [==============================] - 2s 34ms/step - loss: 0.0067 - accuracy: 0.9858 - val_loss: 0.0075 - val_accuracy: 0.9865\n",
      "Epoch 48/50\n",
      "31/31 [==============================] - 2s 35ms/step - loss: 0.0068 - accuracy: 0.9858 - val_loss: 0.0074 - val_accuracy: 0.9868\n",
      "Epoch 49/50\n",
      "31/31 [==============================] - 2s 35ms/step - loss: 0.0067 - accuracy: 0.9858 - val_loss: 0.0073 - val_accuracy: 0.9863\n",
      "Epoch 50/50\n",
      "29/31 [===========================>..] - ETA: 0s - loss: 0.0068 - accuracy: 0.9857\n",
      "Epoch 50: saving model to ./weightscp-0050.ckpt\n",
      "31/31 [==============================] - 2s 42ms/step - loss: 0.0068 - accuracy: 0.9858 - val_loss: 0.0075 - val_accuracy: 0.9866\n"
     ]
    }
   ],
   "source": [
    "!python3 train.py --train_Dataset=./tfrecords/train-data.tfrecord --val_Dataset=./tfrecords/val-data.tfrecord --weights=./weights/ --buffer_size=100 --batch_size=5 --epochs=50 --save_freq=5"
   ]
  },
  {
   "cell_type": "code",
   "execution_count": 17,
   "id": "af7e04e9-fc8d-42c6-8874-33a7fead33ae",
   "metadata": {
    "tags": []
   },
   "outputs": [
    {
     "name": "stdout",
     "output_type": "stream",
     "text": [
      "2023-03-05 10:04:38.294419: I tensorflow/core/platform/cpu_feature_guard.cc:193] This TensorFlow binary is optimized with oneAPI Deep Neural Network Library (oneDNN) to use the following CPU instructions in performance-critical operations:  AVX2 FMA\n",
      "To enable them in other operations, rebuild TensorFlow with the appropriate compiler flags.\n",
      "2023-03-05 10:04:40.149502: I tensorflow/core/platform/cpu_feature_guard.cc:193] This TensorFlow binary is optimized with oneAPI Deep Neural Network Library (oneDNN) to use the following CPU instructions in performance-critical operations:  AVX2 FMA\n",
      "To enable them in other operations, rebuild TensorFlow with the appropriate compiler flags.\n",
      "2023-03-05 10:04:40.626531: I tensorflow/core/common_runtime/gpu/gpu_device.cc:1613] Created device /job:localhost/replica:0/task:0/device:GPU:0 with 7459 MB memory:  -> device: 0, name: A100-SXM4-40GB MIG 0g.10gb, pci bus id: 0000:b7:00.0, compute capability: 8.0\n",
      "2023-03-05 10:04:43.742634: I tensorflow/compiler/xla/stream_executor/cuda/cuda_dnn.cc:428] Loaded cuDNN version 8101\n",
      "1/1 [==============================] - 3s 3s/step\n",
      "Figure(1500x1500)\n",
      "I0305 10:04:45.678164 140629911312192 predict.py:69] ./result/result.png saved\n"
     ]
    }
   ],
   "source": [
    "!python3 predict.py --image_path=./tomatoseedsdatasetjm/JPEGImages/2021-03-09213042.jpg --mask_path=./result/result.png --labels=./tomatoseedsdatasetjm/labelmap.txt --show_results=True --weights=./weights/weightscp-0050.ckpt"
   ]
  }
 ],
 "metadata": {
  "kernelspec": {
   "display_name": "Python 3 (ipykernel)",
   "language": "python",
   "name": "python3"
  },
  "language_info": {
   "codemirror_mode": {
    "name": "ipython",
    "version": 3
   },
   "file_extension": ".py",
   "mimetype": "text/x-python",
   "name": "python",
   "nbconvert_exporter": "python",
   "pygments_lexer": "ipython3",
   "version": "3.8.10"
  }
 },
 "nbformat": 4,
 "nbformat_minor": 5
}
